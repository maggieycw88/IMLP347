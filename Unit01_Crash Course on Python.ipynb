{
 "cells": [
  {
   "cell_type": "markdown",
   "metadata": {},
   "source": [
    "# Python programming \n",
    "## Crash Course on Python Coding Practice\n",
    "\n",
    "No matter the level of mastery you hope to get to in Python,<br> \n",
    "you'll need these fundamentals in place before you jump into any project.<br><br>\n",
    "\n",
    "You need to know how to:\n",
    "\n",
    "- declare variables\n",
    "- collect user input\n",
    "- store information\n",
    "- repeat an action through loops\n",
    "- write functions to repeat blocks of code\n"
   ]
  },
  {
   "cell_type": "markdown",
   "metadata": {},
   "source": [
    "### 01 - 奇偶數辨別（Odd or even）\n",
    "#### 當使用者輸入一個的數字，它能夠辨別奇偶，並輸出檢驗結果給使用者。\n",
    "\n",
    "> 題目：輸入一數字判斷奇數或偶數<br>\n",
    "輸入(Input): 一個數字 <br>\n",
    "輸出(Output):奇數或偶數\n",
    "\n",
    "* 進階: 可以限制輸入一個介於一定範圍（例如 1 到 1000）的數字"
   ]
  },
  {
   "cell_type": "code",
   "execution_count": 4,
   "metadata": {},
   "outputs": [
    {
     "name": "stdin",
     "output_type": "stream",
     "text": [
      "請輸入一個數字： 5\n"
     ]
    },
    {
     "name": "stdout",
     "output_type": "stream",
     "text": [
      "5 是奇數\n"
     ]
    }
   ],
   "source": [
    "number = int(input(\"請輸入一個數字：\"))\n",
    "\n",
    "if number % 2 == 0:\n",
    "    print(f\"{number} 是偶數\")\n",
    "else:\n",
    "    print(f\"{number} 是奇數\")\n",
    "\n"
   ]
  },
  {
   "cell_type": "markdown",
   "metadata": {},
   "source": [
    "### 02 - 填字遊戲（Mad libs game）\n",
    "#### 使用者輸入任何字，它可以是名詞、形容詞、動詞、代名詞等。程式得到文字後，可自行排列，組成成一個模板故事。\n",
    "\n",
    "> 題目：輸入一數字判斷奇數或偶數<br>\n",
    "輸入(Input): 一連串依據說明輸入對應文字 <br>\n",
    "輸出(Output): 模板故事\n",
    "\n",
    "* 進階: 可以讓程式重複執行"
   ]
  },
  {
   "cell_type": "code",
   "execution_count": 5,
   "metadata": {},
   "outputs": [
    {
     "name": "stdin",
     "output_type": "stream",
     "text": [
      "請輸入您的名字： 王小姐\n",
      "請輸入年齡： 35\n",
      "請輸入學到的技能： 電腦程式\n",
      "請輸入對未來的預期： 學習成功\n"
     ]
    },
    {
     "name": "stdout",
     "output_type": "stream",
     "text": [
      "請開啟學習連結來完成模擬故事：\n",
      "姓名：王小姐\n",
      "年齡：35\n",
      "技能：電腦程式\n",
      "目標：學習成功\n"
     ]
    }
   ],
   "source": [
    "name = input(\"請輸入您的名字：\")\n",
    "age = input(\"請輸入年齡：\")\n",
    "skill = input(\"請輸入學到的技能：\")\n",
    "goal = input(\"請輸入對未來的預期：\")\n",
    "\n",
    "print(f\"請開啟學習連結來完成模擬故事：\")\n",
    "print(f\"姓名：{name}\")\n",
    "print(f\"年齡：{age}\")\n",
    "print(f\"技能：{skill}\")\n",
    "print(f\"目標：{goal}\")\n"
   ]
  },
  {
   "cell_type": "markdown",
   "metadata": {},
   "source": [
    "### 03 -  猜數字（Guess the number）\n",
    "#### 請使用者猜一個介於範圍（例如 1 到 100）之間的數字，\n",
    "#### 若使用者猜錯，就詢問他們想繼續玩還是退出；若使用者猜對，就顯示祝賀訊息，\n",
    "#### 並統計使用者的嘗試次數。如果使用者輸入的數字超出設定範圍，就顯示錯誤提示。\n",
    "\n",
    "![](data\\guess.png)\n"
   ]
  },
  {
   "cell_type": "code",
   "execution_count": 7,
   "metadata": {
    "scrolled": true
   },
   "outputs": [
    {
     "name": "stdin",
     "output_type": "stream",
     "text": [
      "45 50\n"
     ]
    },
    {
     "name": "stdout",
     "output_type": "stream",
     "text": [
      "再小一點!\n"
     ]
    },
    {
     "name": "stdin",
     "output_type": "stream",
     "text": [
      "45 40\n"
     ]
    },
    {
     "name": "stdout",
     "output_type": "stream",
     "text": [
      "再大一點!\n"
     ]
    },
    {
     "name": "stdin",
     "output_type": "stream",
     "text": [
      "45 45\n"
     ]
    },
    {
     "name": "stdout",
     "output_type": "stream",
     "text": [
      "恭喜你猜對了! 答案是 45，總共猜了 3 次。\n"
     ]
    }
   ],
   "source": [
    "number_to_guess = 45\n",
    "attempts = 0\n",
    "\n",
    "while True:\n",
    "    guess = int(input(\"45\"))\n",
    "    attempts += 1\n",
    "\n",
    "    if guess < 1 or guess > 100:\n",
    "        print(\"輸入錯誤，請輸入 1 到 100 之間的數字!\")\n",
    "    elif guess < number_to_guess:\n",
    "        print(\"再大一點!\")\n",
    "    elif guess > number_to_guess:\n",
    "        print(\"再小一點!\")\n",
    "    else:\n",
    "        print(f\"恭喜你猜對了! 答案是 {number_to_guess}，總共猜了 {attempts} 次。\")\n",
    "        break\n",
    "\n",
    "\n",
    "\n",
    "\n",
    "\n",
    "\n"
   ]
  },
  {
   "cell_type": "code",
   "execution_count": null,
   "metadata": {},
   "outputs": [],
   "source": [
    "### 04 - 計算字數（Word count）\n",
    "#### 使用者輸入一段文字或讀取一檔案，程式統計字數。\n",
    "\n",
    "> 輸入(Input):我要成為寫程式的專家 <br>\n",
    "輸出(Output):你用了 10 個文字述說內心的想法\n",
    "\n",
    "#### 在特定的文章字串中搜尋輸入的特定字，請使用者輸入欲搜尋的文字，印出總共有幾個。<br>\n",
    ">輸入(Input):天<br>\n",
    "輸出(Output): 9\n",
    "\n",
    "* 進階:計算文章中去除標點符號後的字數，找出文章中出現最多的字與次數"
   ]
  },
  {
   "cell_type": "code",
   "execution_count": 14,
   "metadata": {},
   "outputs": [
    {
     "name": "stdout",
     "output_type": "stream",
     "text": [
      "輸入 (Input): 我要成為寫程式的專家\n",
      "輸出 (Output): 專心學習程式並且應用，你用了 10 個文字述說內心的想法\n"
     ]
    },
    {
     "name": "stdin",
     "output_type": "stream",
     "text": [
      " 天\n"
     ]
    },
    {
     "name": "stdout",
     "output_type": "stream",
     "text": [
      "字 '天' 在文章中出現了 1 次。\n"
     ]
    }
   ],
   "source": [
    "# 第一部分: 指定輸入與輸出結果\n",
    "input_text = \"我要成為寫程式的專家\"  # 題目指定的輸入\n",
    "output_text = \"專心學習程式並且應用\"  # 內心想法輸出結果\n",
    "\n",
    "length = len(output_text)  # 計算文字長度\n",
    "\n",
    "print(f\"輸入 (Input): {input_text}\")\n",
    "print(f\"輸出 (Output): {output_text}，你用了 {length} 個文字述說內心的想法\")\n",
    "\n",
    "# 第二部分: 計算特定字在文章中的出現次數\n",
    "s = '''\n",
    "濃雲重壓色思鬱閣，御亭多冬年木不覆。\n",
    "構高有初成，養老深積入未識。\n",
    "天生蟾蜍結，留星是玉點。\n",
    "回眸一笑百媚生，六宮粉黛無顏色。\n",
    "春寒料峭酒溫，溫泉水滑洗凝脂。\n",
    "待我抱悲嬋娟，始見新妝悲鬢。\n",
    "'''\n",
    "\n",
    "# 使用者輸入要查詢的字\n",
    "word = input(\"\")  # 輸入你想要查詢的字\n",
    "count = s.count(word)  # 計算字出現的次數\n",
    "\n",
    "print(f\"字 '{word}' 在文章中出現了 {count} 次。\")\n",
    "\n",
    "\n",
    "\n",
    "\n",
    "\n"
   ]
  },
  {
   "cell_type": "markdown",
   "metadata": {},
   "source": [
    "### 05 - Email 域名判斷器（Email slicer）\n",
    "#### 請用戶輸入 Email 地址，然後判斷它是自定義域名還是熱門域名。\n",
    "\n",
    "> 題目：<br>\n",
    "輸入(Input):shelly200318@hotmail.com.tw  <br>\n",
    "輸出(Output):Your username is 'shelly200318' and your domain name is 'hotmail.com.tw' <br>\n",
    "\n",
    "\n",
    "* 進階：把常用的信箱存成字典，加入判斷是否為\n",
    ">輸入(Input):mary.jane@gmail.com  <br>\n",
    "輸出(Output):這是註冊在 Google 之下的 Email 地址 <br>\n",
    "輸入(Input):matt.pan@myfantasy.com  <br>\n",
    "輸出(Output):這是在 myfantasy 之下自定義域\n",
    "\n"
   ]
  },
  {
   "cell_type": "code",
   "execution_count": 15,
   "metadata": {},
   "outputs": [
    {
     "name": "stdin",
     "output_type": "stream",
     "text": [
      "What is your email address?:  shelly200318@hotmail.com.tw\n"
     ]
    },
    {
     "name": "stdout",
     "output_type": "stream",
     "text": [
      "Your username is 'shelly200318' and your domain name is 'hotmail.com.tw'\n",
      "這是註冊在 Hotmail 之下的 Email 地址\n"
     ]
    }
   ],
   "source": [
    "# 取得使用者輸入的 Email 地址\n",
    "email = input(\"What is your email address?: \").strip()\n",
    "\n",
    "# 切出用戶名稱與網域名稱\n",
    "user_name, domain_name = email.split(\"@\")\n",
    "\n",
    "# 格式化基本輸出訊息\n",
    "output = \"Your username is '{}' and your domain name is '{}'\".format(user_name, domain_name)\n",
    "print(output)\n",
    "\n",
    "# 判斷網域是熱鬧域名還是自定義域名\n",
    "domain = {'gmail.com': 'Google', \n",
    "          'yahoo.com.tw': 'Yahoo', \n",
    "          'ntu.edu.tw': '臺大', \n",
    "          'hotmail.com.tw': 'Hotmail', \n",
    "          'hotmail.com': 'Hotmail'}\n",
    "\n",
    "if domain_name in domain:\n",
    "    output = \"這是註冊在 {} 之下的 Email 地址\".format(domain[domain_name])\n",
    "else:\n",
    "    output = \"這是在 {} 之下自定義域\".format(domain_name)\n",
    "\n",
    "# 顯示最終結果\n",
    "print(output)\n"
   ]
  },
  {
   "cell_type": "markdown",
   "metadata": {},
   "source": [
    "### 06 - 及格名單（Pass list）\n",
    "#### 請使用集合功能來完成各科級名單的判斷\n",
    "```\n",
    "米花市帝丹小學一年级B班正舉辦期中考試\n",
    "數學及格的有：柯南、灰原、步美、美環、光彦\n",
    "英文及格的有：柯南、灰原、丸尾、野口、步美\n",
    "以上已列出全班所有人\n",
    "```\n",
    "\n",
    ">請分別列出<br>\n",
    "數學及格但英文不及格的同學名單<br>\n",
    "數學不及格但英文及格的同學名單<br>\n",
    "兩者皆及格名單<br>\n",
    "* Hint:差集(減法)、交集\n"
   ]
  },
  {
   "cell_type": "code",
   "execution_count": 16,
   "metadata": {},
   "outputs": [
    {
     "name": "stdout",
     "output_type": "stream",
     "text": [
      "兩者皆不及格的名單: ['步美', '柯南', '灰原']\n",
      "數學及格但英文不及格的名單: ['小嶽']\n",
      "數學不及格但英文及格的名單: ['美環', '光彥']\n"
     ]
    }
   ],
   "source": [
    "# 數學不及格名單\n",
    "math_fail = {\"柯南\", \"灰原\", \"步美\", \"美環\", \"光彥\"}\n",
    "# 英文不及格名單\n",
    "english_fail = {\"柯南\", \"灰原\", \"小嶽\", \"步美\"}\n",
    "\n",
    "# 兩者皆不及格的名單 (交集)\n",
    "both_fail = math_fail.intersection(english_fail)\n",
    "print(\"兩者皆不及格的名單:\", list(both_fail))\n",
    "\n",
    "# 數學及格但英文不及格的名單 (差集)\n",
    "math_pass_english_fail = english_fail.difference(math_fail)\n",
    "print(\"數學及格但英文不及格的名單:\", list(math_pass_english_fail))\n",
    "\n",
    "# 數學不及格但英文及格的名單 (差集)\n",
    "math_fail_english_pass = math_fail.difference(english_fail)\n",
    "print(\"數學不及格但英文及格的名單:\", list(math_fail_english_pass))\n",
    "\n"
   ]
  },
  {
   "cell_type": "markdown",
   "metadata": {},
   "source": [
    "### 07 - 查詢路徑下所有檔案\n",
    "#### 請使用者輸入路徑，自動抓取路徑下所有檔案名稱\n",
    "\n",
    ">輸入(Input):data\\testfile 或 D:\\code\\ML_202105\\data\\testfile  <br>\n",
    "輸出(Output):\n",
    "```\n",
    "I'm a directory: file1\n",
    "I'm a directory: file2\n",
    "I'm a File: hw_07945001.txt\n",
    "I'm a File: hw_079450010.doc\n",
    "I'm a File: hw_07945002.txt\n",
    "I'm a File: hw_07945003.txt\n",
    "I'm a File: hw_07945004.txt\n",
    "I'm a File: hw_07945005.txt\n",
    "I'm a File: hw_07945007.txt\n",
    "I'm a File: hw_07945008.txt\n",
    "I'm a File: hw_07945009.txt\n",
    "```\n",
    "\n",
    "* 進階: 把file的學號抓出來，另存成一個新的csv檔"
   ]
  },
  {
   "cell_type": "code",
   "execution_count": 24,
   "metadata": {},
   "outputs": [
    {
     "name": "stdout",
     "output_type": "stream",
     "text": [
      "I'm a File: UNIT 1：Python.pdf\n",
      "I'm a directory: Unit01\n"
     ]
    }
   ],
   "source": [
    "import os\n",
    "\n",
    "# 輸入正確的路徑\n",
    "yourPath = r\"C:\\Users\\Maggie\\Desktop\\台大資料訓練課程\\第428 Python 機器學習\\Unit 1\"\n",
    "\n",
    "# 檢查目錄是否存在\n",
    "if not os.path.exists(yourPath):\n",
    "    print(\"路徑不存在，請確認後再試！\")\n",
    "else:\n",
    "    # 獲取路徑下所有檔案和資料夾名稱\n",
    "    allFileList = os.listdir(yourPath)\n",
    "\n",
    "    # 輸出結果\n",
    "    for file in allFileList:\n",
    "        fullPath = os.path.join(yourPath, file)  # 組合完整路徑\n",
    "        if os.path.isdir(fullPath):\n",
    "            print(f\"I'm a directory: {file}\")\n",
    "        else:\n",
    "            print(f\"I'm a File: {file}\")\n",
    "\n"
   ]
  },
  {
   "cell_type": "markdown",
   "metadata": {},
   "source": [
    "### 08 - 資料夾管理(shutil)\n",
    "#### 說明 ####\n",
    "\n",
    "```\n",
    "在目前所在的目錄下建立一files資料夾\n",
    "\n",
    "令使用者輸入一數字N，並在files資料夾中建立f1, f2… fN等N個資料夾後列出files的資料夾內容\n",
    "\n",
    "將files資料夾裡的f1資料夾重新命名成folder1後再列出files的資料夾內容\n",
    "\n",
    "移除files資料夾中的folder1後再列出files的資料夾內容\n",
    "\n",
    "最後移除files資料夾\n",
    "※須先退出files資料夾(os.chdir(../)) ![image.png](attachment:image.png)\n",
    "```\n"
   ]
  },
  {
   "cell_type": "code",
   "execution_count": 25,
   "metadata": {},
   "outputs": [
    {
     "name": "stdin",
     "output_type": "stream",
     "text": [
      "請輸入要建立的資料夾數量:  3\n"
     ]
    },
    {
     "name": "stdout",
     "output_type": "stream",
     "text": [
      "\n",
      "'files' 資料夾中的內容:\n",
      "f1\n",
      "f2\n",
      "f3\n",
      "\n",
      "重新命名後 'files' 資料夾的內容:\n",
      "f2\n",
      "f3\n",
      "folder1\n",
      "\n",
      "移除 'folder1' 後 'files' 資料夾的內容:\n",
      "f2\n",
      "f3\n"
     ]
    }
   ],
   "source": [
    "import os\n",
    "import shutil\n",
    "\n",
    "# 檢查並重新建立 'files' 資料夾\n",
    "if os.path.exists('files'):\n",
    "    shutil.rmtree('files')  # 刪除舊的資料夾\n",
    "os.mkdir('files')  # 建立新的資料夾\n",
    "\n",
    "# 輸入要建立的資料夾數量\n",
    "n = int(input(\"請輸入要建立的資料夾數量: \"))\n",
    "\n",
    "# 在 'files' 資料夾中建立 f1, f2, ..., fn\n",
    "for i in range(1, n+1):\n",
    "    folder_name = f\"f{i}\"\n",
    "    os.mkdir(os.path.join('files', folder_name))\n",
    "\n",
    "# 列出 'files' 資料夾中的所有內容\n",
    "print(\"\\n'files' 資料夾中的內容:\")\n",
    "all_files = os.listdir('files')\n",
    "for file in all_files:\n",
    "    print(file)\n",
    "\n",
    "# 將 'f1' 資料夾重新命名為 'folder1'\n",
    "os.rename(os.path.join('files', 'f1'), os.path.join('files', 'folder1'))\n",
    "\n",
    "# 列出 'files' 資料夾內容，確認變動\n",
    "print(\"\\n重新命名後 'files' 資料夾的內容:\")\n",
    "all_files = os.listdir('files')\n",
    "for file in all_files:\n",
    "    print(file)\n",
    "\n",
    "# 移除 'files' 資料夾中的 'folder1'\n",
    "shutil.rmtree(os.path.join('files', 'folder1'))\n",
    "\n",
    "# 最後再列出 'files' 資料夾內容，確認 'folder1' 被移除\n",
    "print(\"\\n移除 'folder1' 後 'files' 資料夾的內容:\")\n",
    "all_files = os.listdir('files')\n",
    "for file in all_files:\n",
    "    print(file)\n",
    "\n",
    "\n"
   ]
  },
  {
   "cell_type": "markdown",
   "metadata": {},
   "source": [
    "### 09 - 回文判斷（Is a palindrome）\n",
    "#### 請使用者輸入單字，判斷它是否為回文，也就是該單字前後對稱，例如 madam，從前讀到後或是從後讀到前的順序都是 madam。\n",
    "\n",
    "> 題目：<br>\n",
    "輸入(Input): 雨 滋 春 樹 碧 連 天  天 連 碧 樹 春 滋 雨 <br>\n",
    "輸出(Output):The text you have entered is a palindrome!<br>\n",
    "輸入(Input): 資工訓練班 <br>\n",
    "輸出(Output):The text you have entered is not a palindrome.\n"
   ]
  },
  {
   "cell_type": "code",
   "execution_count": 27,
   "metadata": {},
   "outputs": [
    {
     "name": "stdout",
     "output_type": "stream",
     "text": [
      "\n",
      "Palindrome Checker\n"
     ]
    },
    {
     "name": "stdin",
     "output_type": "stream",
     "text": [
      "\n",
      "Please enter a word, phrase, or a sentence \n",
      "to check if it is a palindrome:  資工訓練班\n"
     ]
    },
    {
     "name": "stdout",
     "output_type": "stream",
     "text": [
      "The text you have entered is not a palindrome.\n"
     ]
    }
   ],
   "source": [
    "def convertInputString():\n",
    "    # 輸入字串並轉換為小寫，去除前後空白\n",
    "    rawInput = input(\"\\nPlease enter a word, phrase, or a sentence \\nto check if it is a palindrome: \")\n",
    "    return rawInput.lower().strip()\n",
    "\n",
    "def stripAlphaNumerics(dirtyList):\n",
    "    # 移除非字母和數字的符號\n",
    "    alphanumericList = [char for char in dirtyList if char.isalnum()]\n",
    "    return alphanumericList\n",
    "\n",
    "def runPalindromeCheck(straightList):\n",
    "    # 檢查是否為回文\n",
    "    reversedList = straightList[::-1]  # 反轉列表\n",
    "    if straightList == reversedList:\n",
    "        return \"The text you have entered is a palindrome!\"\n",
    "    else:\n",
    "        return \"The text you have entered is not a palindrome.\"\n",
    "\n",
    "def main():\n",
    "    # 主程式流程\n",
    "    print(\"\\nPalindrome Checker\")\n",
    "    userInput = convertInputString()  # 取得輸入並轉換格式\n",
    "    cleanedList = stripAlphaNumerics(userInput)  # 移除非字母數字的符號\n",
    "    result = runPalindromeCheck(cleanedList)  # 判斷是否為回文\n",
    "    print(result)\n",
    "\n",
    "# 執行主程式\n",
    "if __name__ == \"__main__\":\n",
    "    main()\n"
   ]
  },
  {
   "cell_type": "code",
   "execution_count": 44,
   "metadata": {},
   "outputs": [
    {
     "ename": "FileNotFoundError",
     "evalue": "[Errno 2] No such file or directory: 'C:/使用者/Maggie/Downloads/english_list.csv'",
     "output_type": "error",
     "traceback": [
      "\u001b[1;31m---------------------------------------------------------------------------\u001b[0m",
      "\u001b[1;31mFileNotFoundError\u001b[0m                         Traceback (most recent call last)",
      "Cell \u001b[1;32mIn[44], line 12\u001b[0m\n\u001b[0;32m      9\u001b[0m scores \u001b[38;5;241m=\u001b[39m {}\n\u001b[0;32m     11\u001b[0m \u001b[38;5;66;03m# 讀取英文成績\u001b[39;00m\n\u001b[1;32m---> 12\u001b[0m \u001b[38;5;28;01mwith\u001b[39;00m \u001b[38;5;28mopen\u001b[39m(english_file, \u001b[38;5;124m\"\u001b[39m\u001b[38;5;124mr\u001b[39m\u001b[38;5;124m\"\u001b[39m, encoding\u001b[38;5;241m=\u001b[39m\u001b[38;5;124m\"\u001b[39m\u001b[38;5;124mutf-8\u001b[39m\u001b[38;5;124m\"\u001b[39m) \u001b[38;5;28;01mas\u001b[39;00m fin_E:\n\u001b[0;32m     13\u001b[0m     reader \u001b[38;5;241m=\u001b[39m csv\u001b[38;5;241m.\u001b[39mreader(fin_E)\n\u001b[0;32m     14\u001b[0m     \u001b[38;5;28mnext\u001b[39m(reader)  \u001b[38;5;66;03m# 跳過標題\u001b[39;00m\n",
      "File \u001b[1;32m~\\anaconda3\\Lib\\site-packages\\IPython\\core\\interactiveshell.py:324\u001b[0m, in \u001b[0;36m_modified_open\u001b[1;34m(file, *args, **kwargs)\u001b[0m\n\u001b[0;32m    317\u001b[0m \u001b[38;5;28;01mif\u001b[39;00m file \u001b[38;5;129;01min\u001b[39;00m {\u001b[38;5;241m0\u001b[39m, \u001b[38;5;241m1\u001b[39m, \u001b[38;5;241m2\u001b[39m}:\n\u001b[0;32m    318\u001b[0m     \u001b[38;5;28;01mraise\u001b[39;00m \u001b[38;5;167;01mValueError\u001b[39;00m(\n\u001b[0;32m    319\u001b[0m         \u001b[38;5;124mf\u001b[39m\u001b[38;5;124m\"\u001b[39m\u001b[38;5;124mIPython won\u001b[39m\u001b[38;5;124m'\u001b[39m\u001b[38;5;124mt let you open fd=\u001b[39m\u001b[38;5;132;01m{\u001b[39;00mfile\u001b[38;5;132;01m}\u001b[39;00m\u001b[38;5;124m by default \u001b[39m\u001b[38;5;124m\"\u001b[39m\n\u001b[0;32m    320\u001b[0m         \u001b[38;5;124m\"\u001b[39m\u001b[38;5;124mas it is likely to crash IPython. If you know what you are doing, \u001b[39m\u001b[38;5;124m\"\u001b[39m\n\u001b[0;32m    321\u001b[0m         \u001b[38;5;124m\"\u001b[39m\u001b[38;5;124myou can use builtins\u001b[39m\u001b[38;5;124m'\u001b[39m\u001b[38;5;124m open.\u001b[39m\u001b[38;5;124m\"\u001b[39m\n\u001b[0;32m    322\u001b[0m     )\n\u001b[1;32m--> 324\u001b[0m \u001b[38;5;28;01mreturn\u001b[39;00m io_open(file, \u001b[38;5;241m*\u001b[39margs, \u001b[38;5;241m*\u001b[39m\u001b[38;5;241m*\u001b[39mkwargs)\n",
      "\u001b[1;31mFileNotFoundError\u001b[0m: [Errno 2] No such file or directory: 'C:/使用者/Maggie/Downloads/english_list.csv'"
     ]
    }
   ],
   "source": [
    "import csv\n",
    "\n",
    "# 正確的檔案路徑\n",
    "english_file = \"C:/使用者/Maggie/Downloads/english_list.csv\"\n",
    "math_file = \"C:/使用者/Maggie/Downloads/math_list.csv\"\n",
    "output_file = \"C:/使用者/Maggie/Downloads/Score.csv\"\n",
    "\n",
    "# 儲存成績\n",
    "scores = {}\n",
    "\n",
    "# 讀取英文成績\n",
    "with open(english_file, \"r\", encoding=\"utf-8\") as fin_E:\n",
    "    reader = csv.reader(fin_E)\n",
    "    next(reader)  # 跳過標題\n",
    "    for line in reader:\n",
    "        name, score = line[0], int(line[1])\n",
    "        scores[name] = scores.get(name, 0) + score\n",
    "\n",
    "# 讀取數學成績並加總\n",
    "with open(math_file, \"r\", encoding=\"utf-8\") as fin_M:\n",
    "    reader = csv.reader(fin_M)\n",
    "    next(reader)  # 跳過標題\n",
    "    for line in reader:\n",
    "        name, score = line[0], int(line[1])\n",
    "        scores[name] = scores.get(name, 0) + score\n",
    "\n",
    "# 寫入加總結果\n",
    "with open(output_file, \"w\", encoding=\"utf-8\", newline=\"\") as fout:\n",
    "    writer = csv.writer(fout)\n",
    "    writer.writerow([\"姓名\", \"總分\"])\n",
    "    for name, total_score in scores.items():\n",
    "        writer.writerow([name, total_score])\n",
    "\n",
    "print(\"成績已成功加總並寫入 Score.csv 檔案！\")\n"
   ]
  },
  {
   "cell_type": "code",
   "execution_count": null,
   "metadata": {},
   "outputs": [],
   "source": []
  }
 ],
 "metadata": {
  "kernelspec": {
   "display_name": "Python 3 (ipykernel)",
   "language": "python",
   "name": "python3"
  },
  "language_info": {
   "codemirror_mode": {
    "name": "ipython",
    "version": 3
   },
   "file_extension": ".py",
   "mimetype": "text/x-python",
   "name": "python",
   "nbconvert_exporter": "python",
   "pygments_lexer": "ipython3",
   "version": "3.12.7"
  }
 },
 "nbformat": 4,
 "nbformat_minor": 4
}
